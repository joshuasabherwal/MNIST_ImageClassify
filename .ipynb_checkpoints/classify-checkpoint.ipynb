{
 "cells": [
  {
   "cell_type": "code",
   "execution_count": 1,
   "metadata": {},
   "outputs": [
    {
     "name": "stderr",
     "output_type": "stream",
     "text": [
      "Using TensorFlow backend.\n"
     ]
    }
   ],
   "source": [
    "import numpy as np\n",
    "import cv2\n",
    "import keras\n",
    "from keras.models import Sequential\n",
    "from keras.layers import *\n",
    "from keras import backend as k\n",
    "from keras.layers.normalization import BatchNormalization"
   ]
  },
  {
   "cell_type": "code",
   "execution_count": 2,
   "metadata": {},
   "outputs": [],
   "source": [
    "from keras.datasets import fashion_mnist\n",
    "(x_train, y_train), (x_test, y_test) = fashion_mnist.load_data() # load"
   ]
  },
  {
   "cell_type": "code",
   "execution_count": 3,
   "metadata": {},
   "outputs": [
    {
     "name": "stdout",
     "output_type": "stream",
     "text": [
      "('x_train shape: ', (60000, 28, 28, 1))\n",
      "('x_test shape: ', (10000, 28, 28, 1))\n"
     ]
    }
   ],
   "source": [
    "# reshaping\n",
    "if k.image_data_format() == \"channels_first\":\n",
    "    x_train = x_train.reshape(x_train.shape[0], 1, 28, 28)\n",
    "    x_test = x_test.reshape(x_test.shape[0], 1, 28, 28)\n",
    "    input_shape = (1, 28, 28)\n",
    "else:\n",
    "    x_train = x_train.reshape(x_train.shape[0], 28, 28, 1)\n",
    "    x_test = x_test.reshape(x_test.shape[0], 28, 28, 1)\n",
    "    input_shape = (28, 28, 1)\n",
    "    \n",
    "x_train = x_train.astype(\"float32\")\n",
    "x_test = x_test.astype(\"float32\")\n",
    "x_train /= 255.\n",
    "x_test /= 255.\n",
    "\n",
    "print(\"x_train shape: \", x_train.shape)\n",
    "print(\"x_test shape: \", x_test.shape)"
   ]
  },
  {
   "cell_type": "code",
   "execution_count": 4,
   "metadata": {},
   "outputs": [],
   "source": [
    "y_train = keras.utils.to_categorical(y_train, 10)\n",
    "y_test = keras.utils.to_categorical(y_test, 10)"
   ]
  },
  {
   "cell_type": "code",
   "execution_count": 6,
   "metadata": {},
   "outputs": [],
   "source": [
    "model = Sequential()\n",
    "\n",
    "model.add(Conv2D(32, kernel_size=(3, 3), activation='relu', \n",
    "                 kernel_initializer='he_normal', padding='same', input_shape=(28, 28, 1)))\n",
    "model.add(MaxPooling2D(pool_size=(2, 2)))\n",
    "\n",
    "model.add(Dropout(0.25))\n",
    "model.add(Conv2D(64, kernel_size=(3, 3), activation='relu'))\n",
    "model.add(MaxPooling2D(pool_size=(2, 2)))\n",
    "\n",
    "model.add(Dropout(0.25))\n",
    "model.add(Conv2D(128, (3, 3), activation='relu'))\n",
    "\n",
    "model.add(Dropout(0.4))\n",
    "model.add(Flatten())\n",
    "model.add(Dense(128, activation='relu'))\n",
    "\n",
    "model.add(Dropout(0.3))\n",
    "model.add(Dense(10, activation='softmax'))"
   ]
  },
  {
   "cell_type": "code",
   "execution_count": 7,
   "metadata": {},
   "outputs": [
    {
     "name": "stdout",
     "output_type": "stream",
     "text": [
      "_________________________________________________________________\n",
      "Layer (type)                 Output Shape              Param #   \n",
      "=================================================================\n",
      "conv2d_1 (Conv2D)            (None, 28, 28, 32)        320       \n",
      "_________________________________________________________________\n",
      "max_pooling2d_1 (MaxPooling2 (None, 14, 14, 32)        0         \n",
      "_________________________________________________________________\n",
      "dropout_1 (Dropout)          (None, 14, 14, 32)        0         \n",
      "_________________________________________________________________\n",
      "conv2d_2 (Conv2D)            (None, 12, 12, 64)        18496     \n",
      "_________________________________________________________________\n",
      "max_pooling2d_2 (MaxPooling2 (None, 6, 6, 64)          0         \n",
      "_________________________________________________________________\n",
      "dropout_2 (Dropout)          (None, 6, 6, 64)          0         \n",
      "_________________________________________________________________\n",
      "conv2d_3 (Conv2D)            (None, 4, 4, 128)         73856     \n",
      "_________________________________________________________________\n",
      "dropout_3 (Dropout)          (None, 4, 4, 128)         0         \n",
      "_________________________________________________________________\n",
      "flatten_1 (Flatten)          (None, 2048)              0         \n",
      "_________________________________________________________________\n",
      "dense_1 (Dense)              (None, 128)               262272    \n",
      "_________________________________________________________________\n",
      "dropout_4 (Dropout)          (None, 128)               0         \n",
      "_________________________________________________________________\n",
      "dense_2 (Dense)              (None, 10)                1290      \n",
      "=================================================================\n",
      "Total params: 356,234\n",
      "Trainable params: 356,234\n",
      "Non-trainable params: 0\n",
      "_________________________________________________________________\n"
     ]
    }
   ],
   "source": [
    "model.summary()"
   ]
  },
  {
   "cell_type": "code",
   "execution_count": 8,
   "metadata": {},
   "outputs": [],
   "source": [
    "model.compile(loss=\"categorical_crossentropy\",\n",
    "              optimizer=\"adam\",\n",
    "              metrics=[\"accuracy\"])"
   ]
  },
  {
   "cell_type": "code",
   "execution_count": 9,
   "metadata": {
    "scrolled": true
   },
   "outputs": [
    {
     "name": "stdout",
     "output_type": "stream",
     "text": [
      "Epoch 1/50\n",
      "60000/60000 [==============================] - 34s 565us/step - loss: 0.6152 - acc: 0.7745\n",
      "Epoch 2/50\n",
      "60000/60000 [==============================] - 34s 560us/step - loss: 0.3967 - acc: 0.8548\n",
      "Epoch 3/50\n",
      "60000/60000 [==============================] - 32s 540us/step - loss: 0.3418 - acc: 0.8760\n",
      "Epoch 4/50\n",
      "60000/60000 [==============================] - 31s 518us/step - loss: 0.3099 - acc: 0.8868\n",
      "Epoch 5/50\n",
      "60000/60000 [==============================] - 33s 551us/step - loss: 0.2898 - acc: 0.8934\n",
      "Epoch 6/50\n",
      "60000/60000 [==============================] - 32s 530us/step - loss: 0.2754 - acc: 0.8983\n",
      "Epoch 7/50\n",
      "60000/60000 [==============================] - 33s 550us/step - loss: 0.2663 - acc: 0.9016\n",
      "Epoch 8/50\n",
      "60000/60000 [==============================] - 33s 546us/step - loss: 0.2547 - acc: 0.9066\n",
      "Epoch 9/50\n",
      "60000/60000 [==============================] - 32s 532us/step - loss: 0.2437 - acc: 0.9095\n",
      "Epoch 10/50\n",
      "60000/60000 [==============================] - 32s 535us/step - loss: 0.2387 - acc: 0.9113\n",
      "Epoch 11/50\n",
      "60000/60000 [==============================] - 32s 539us/step - loss: 0.2321 - acc: 0.9138\n",
      "Epoch 12/50\n",
      "60000/60000 [==============================] - 32s 532us/step - loss: 0.2272 - acc: 0.9137\n",
      "Epoch 13/50\n",
      "60000/60000 [==============================] - 31s 515us/step - loss: 0.2201 - acc: 0.9180\n",
      "Epoch 14/50\n",
      "60000/60000 [==============================] - 31s 516us/step - loss: 0.2153 - acc: 0.9198\n",
      "Epoch 15/50\n",
      "60000/60000 [==============================] - 31s 516us/step - loss: 0.2131 - acc: 0.9198\n",
      "Epoch 16/50\n",
      "60000/60000 [==============================] - 31s 523us/step - loss: 0.2121 - acc: 0.9212\n",
      "Epoch 17/50\n",
      "60000/60000 [==============================] - 31s 522us/step - loss: 0.2010 - acc: 0.9249\n",
      "Epoch 18/50\n",
      "60000/60000 [==============================] - 31s 519us/step - loss: 0.2033 - acc: 0.9237\n",
      "Epoch 19/50\n",
      "60000/60000 [==============================] - 31s 521us/step - loss: 0.1958 - acc: 0.92580s - loss: 0.1960 - acc: \n",
      "Epoch 20/50\n",
      "60000/60000 [==============================] - 31s 521us/step - loss: 0.1934 - acc: 0.9269\n",
      "Epoch 21/50\n",
      "60000/60000 [==============================] - 32s 525us/step - loss: 0.1914 - acc: 0.9274\n",
      "Epoch 22/50\n",
      "60000/60000 [==============================] - 32s 536us/step - loss: 0.1912 - acc: 0.9271\n",
      "Epoch 23/50\n",
      "60000/60000 [==============================] - 31s 521us/step - loss: 0.1899 - acc: 0.9286\n",
      "Epoch 24/50\n",
      "60000/60000 [==============================] - 31s 522us/step - loss: 0.1883 - acc: 0.9295\n",
      "Epoch 25/50\n",
      "60000/60000 [==============================] - 31s 522us/step - loss: 0.1852 - acc: 0.9299\n",
      "Epoch 26/50\n",
      "60000/60000 [==============================] - 33s 552us/step - loss: 0.1851 - acc: 0.9305\n",
      "Epoch 27/50\n",
      "60000/60000 [==============================] - 31s 522us/step - loss: 0.1810 - acc: 0.9315\n",
      "Epoch 28/50\n",
      "60000/60000 [==============================] - 32s 525us/step - loss: 0.1790 - acc: 0.9327\n",
      "Epoch 29/50\n",
      "60000/60000 [==============================] - 31s 525us/step - loss: 0.1723 - acc: 0.9347\n",
      "Epoch 30/50\n",
      "60000/60000 [==============================] - 32s 528us/step - loss: 0.1791 - acc: 0.9330\n",
      "Epoch 31/50\n",
      "60000/60000 [==============================] - 33s 542us/step - loss: 0.1719 - acc: 0.9343\n",
      "Epoch 32/50\n",
      "60000/60000 [==============================] - 33s 551us/step - loss: 0.1754 - acc: 0.9327\n",
      "Epoch 33/50\n",
      "60000/60000 [==============================] - 33s 557us/step - loss: 0.1685 - acc: 0.9367\n",
      "Epoch 34/50\n",
      "60000/60000 [==============================] - 34s 560us/step - loss: 0.1654 - acc: 0.9370\n",
      "Epoch 35/50\n",
      "60000/60000 [==============================] - 34s 560us/step - loss: 0.1699 - acc: 0.9358\n",
      "Epoch 36/50\n",
      "60000/60000 [==============================] - 33s 549us/step - loss: 0.1666 - acc: 0.9356\n",
      "Epoch 37/50\n",
      "60000/60000 [==============================] - 32s 526us/step - loss: 0.1646 - acc: 0.9364\n",
      "Epoch 38/50\n",
      "60000/60000 [==============================] - 31s 513us/step - loss: 0.1659 - acc: 0.9373\n",
      "Epoch 39/50\n",
      "60000/60000 [==============================] - 31s 511us/step - loss: 0.1635 - acc: 0.9383\n",
      "Epoch 40/50\n",
      "60000/60000 [==============================] - 31s 511us/step - loss: 0.1634 - acc: 0.9384\n",
      "Epoch 41/50\n",
      "60000/60000 [==============================] - 31s 513us/step - loss: 0.1624 - acc: 0.9385\n",
      "Epoch 42/50\n",
      "60000/60000 [==============================] - 31s 509us/step - loss: 0.1584 - acc: 0.9394\n",
      "Epoch 43/50\n",
      "60000/60000 [==============================] - 31s 513us/step - loss: 0.1577 - acc: 0.9398\n",
      "Epoch 44/50\n",
      "60000/60000 [==============================] - 31s 509us/step - loss: 0.1576 - acc: 0.9407\n",
      "Epoch 45/50\n",
      "60000/60000 [==============================] - 31s 509us/step - loss: 0.1580 - acc: 0.9398\n",
      "Epoch 46/50\n",
      "60000/60000 [==============================] - 31s 510us/step - loss: 0.1578 - acc: 0.9397\n",
      "Epoch 47/50\n",
      "60000/60000 [==============================] - 31s 511us/step - loss: 0.1555 - acc: 0.9403\n",
      "Epoch 48/50\n",
      "60000/60000 [==============================] - 31s 511us/step - loss: 0.1569 - acc: 0.9395\n",
      "Epoch 49/50\n",
      "60000/60000 [==============================] - 31s 515us/step - loss: 0.1520 - acc: 0.9429\n",
      "Epoch 50/50\n",
      "60000/60000 [==============================] - 31s 509us/step - loss: 0.1529 - acc: 0.9410\n"
     ]
    },
    {
     "data": {
      "text/plain": [
       "<keras.callbacks.History at 0x1014db510>"
      ]
     },
     "execution_count": 9,
     "metadata": {},
     "output_type": "execute_result"
    }
   ],
   "source": [
    "model.fit(x_train,\n",
    "         y_train,\n",
    "         batch_size=128,\n",
    "         epochs=50)"
   ]
  },
  {
   "cell_type": "code",
   "execution_count": 10,
   "metadata": {},
   "outputs": [
    {
     "name": "stdout",
     "output_type": "stream",
     "text": [
      "('Test accuracy: ', 0.9343)\n"
     ]
    }
   ],
   "source": [
    "score = model.evaluate(x_test, y_test, verbose=0)\n",
    "print(\"Test accuracy: \", score[1])"
   ]
  },
  {
   "cell_type": "markdown",
   "metadata": {},
   "source": [
    "your boy got a 93.43% accuracy weeew"
   ]
  }
 ],
 "metadata": {
  "anaconda-cloud": {},
  "kernelspec": {
   "display_name": "Python 2",
   "language": "python",
   "name": "python2"
  },
  "language_info": {
   "codemirror_mode": {
    "name": "ipython",
    "version": 2
   },
   "file_extension": ".py",
   "mimetype": "text/x-python",
   "name": "python",
   "nbconvert_exporter": "python",
   "pygments_lexer": "ipython2",
   "version": "2.7.10"
  }
 },
 "nbformat": 4,
 "nbformat_minor": 1
}
